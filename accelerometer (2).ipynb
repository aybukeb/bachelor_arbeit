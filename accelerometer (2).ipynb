{
  "nbformat": 4,
  "nbformat_minor": 0,
  "metadata": {
    "accelerator": "GPU",
    "colab": {
      "name": "accelerometer.ipynb",
      "provenance": [],
      "collapsed_sections": []
    },
    "kernelspec": {
      "display_name": "Python 3",
      "name": "python3"
    },
    "language_info": {
      "name": "python"
    }
  },
  "cells": [
    {
      "cell_type": "code",
      "metadata": {
        "id": "gfUb2Gd_pJTY"
      },
      "source": [
        "from google.colab import drive\n",
        "drive.mount('/content/drive')"
      ],
      "execution_count": null,
      "outputs": []
    },
    {
      "cell_type": "code",
      "metadata": {
        "id": "gHwW_fD-pZC7"
      },
      "source": [
        "import numpy as np\n",
        "import pandas as pd\n",
        "\n",
        "import os\n",
        "for dirname, _, filenames in os.walk('drive/My Drive/accel'):\n",
        "    for filename in filenames:\n",
        "        print(os.path.join(dirname, filename))"
      ],
      "execution_count": null,
      "outputs": []
    },
    {
      "cell_type": "code",
      "metadata": {
        "id": "Yc0u80HJpcMM"
      },
      "source": [
        "from __future__ import print_function\n",
        "from matplotlib import pyplot as plt\n",
        "%matplotlib inline\n",
        "import numpy as np\n",
        "import pandas as pd\n",
        "import seaborn as sns\n",
        "from scipy import stats\n",
        "from IPython.display import display, HTML\n",
        "\n",
        "from sklearn import metrics\n",
        "from sklearn.metrics import classification_report\n",
        "from sklearn import preprocessing\n",
        "\n",
        "import keras\n",
        "from keras.models import Sequential\n",
        "from keras.layers import Dense, Dropout, Flatten, Reshape\n",
        "from keras.layers import Conv2D, MaxPooling2D, Conv1D, MaxPooling1D\n",
        "from keras.utils import np_utils\n",
        "from sklearn.preprocessing import LabelEncoder\n",
        "\n",
        "import re\n",
        "%matplotlib inline\n",
        "sns.set(style='whitegrid', palette='muted', font_scale=1.5)\n",
        "\n",
        "plt.rcParams[\"figure.figsize\"] = (10,5)\n",
        "\n",
        "RANDOM_SEED = 42"
      ],
      "execution_count": null,
      "outputs": []
    },
    {
      "cell_type": "code",
      "metadata": {
        "id": "MN7J8CmMpgy2"
      },
      "source": [
        "columns=['Benutzer-ID','Aktivitätscode','Zeit','x','y','z']\n",
        "\n",
        "data_watch_accel = pd.DataFrame(data=None,columns=columns)\n",
        "for dirname, _, filenames in os.walk('drive/My Drive/accel'):\n",
        "    for filename in filenames:\n",
        "        data_frame = pd.read_csv('drive/My Drive/accel/'+filename , sep=\",\", header=None)\n",
        "        temp=pd.DataFrame(data=data_frame.values, columns=columns)\n",
        "        data_watch_accel=pd.concat([data_watch_accel,temp])"
      ],
      "execution_count": null,
      "outputs": []
    },
    {
      "cell_type": "code",
      "metadata": {
        "id": "ETKAy_dPpuPM"
      },
      "source": [
        "data_watch_accel['z']=data_watch_accel['z'].str.replace(';','')\n",
        "data_watch_accel['x']=data_watch_accel['x'].astype('float')\n",
        "data_watch_accel['y']=data_watch_accel['y'].astype('float')\n",
        "data_watch_accel['z']=data_watch_accel['z'].astype('float')\n",
        "\n",
        "data_watch_accel['Aktivitätscode'].value_counts()\n",
        "data_watch_accel.info()"
      ],
      "execution_count": null,
      "outputs": []
    },
    {
      "cell_type": "code",
      "metadata": {
        "id": "ngzu_H6ppzFd"
      },
      "source": [
        "data_watch_accel"
      ],
      "execution_count": null,
      "outputs": []
    },
    {
      "cell_type": "code",
      "metadata": {
        "id": "tqQysaAAp5Zy"
      },
      "source": [
        "data_watch_accel['Aktivitätscode'].value_counts().plot(kind='bar', title='Anzahl der Beschleunigungsmesser-Proben nach Aktivitäten',color=['b','c','g','r','k','y']);"
      ],
      "execution_count": null,
      "outputs": []
    },
    {
      "cell_type": "code",
      "metadata": {
        "id": "JeDbAGPBp-0M"
      },
      "source": [
        "def plot_activity(activity, data_frame):\n",
        "    data = data_watch_accel[data_watch_accel['Aktivitätscode'] == activity][['x', 'y', 'z']][:200]\n",
        "    axis = data[\"x\"].plot(subplots=True, \n",
        "                     title=activity,color=\"b\")\n",
        "    axis = data[\"y\"].plot(subplots=True, \n",
        "                 title=activity,color=\"r\")\n",
        "    axis = data[\"z\"].plot(subplots=True, \n",
        "             title=activity,color=\"g\")\n",
        "    for ax in axis:\n",
        "        ax.legend(loc='lower left', bbox_to_anchor=(2, 1))"
      ],
      "execution_count": null,
      "outputs": []
    },
    {
      "cell_type": "code",
      "metadata": {
        "id": "WNh3_1WmqDXb"
      },
      "source": [
        "plot_activity(\"D\", data_frame) #standing"
      ],
      "execution_count": null,
      "outputs": []
    },
    {
      "cell_type": "code",
      "metadata": {
        "id": "_4xDGpNvqF77"
      },
      "source": [
        "plot_activity(\"A\", data_frame) #walking"
      ],
      "execution_count": null,
      "outputs": []
    },
    {
      "cell_type": "code",
      "metadata": {
        "id": "OSb6tnanqL6v"
      },
      "source": [
        "plot_activity(\"K\", data_frame) #drinking"
      ],
      "execution_count": null,
      "outputs": []
    },
    {
      "cell_type": "code",
      "metadata": {
        "id": "10wdKWfvqPgS"
      },
      "source": [
        "plot_activity(\"Q\", data_frame) #writing"
      ],
      "execution_count": null,
      "outputs": []
    },
    {
      "cell_type": "code",
      "metadata": {
        "id": "vTCxLfnPqTef"
      },
      "source": [
        "data_watch_accel = data_watch_accel[data_watch_accel.Aktivitätscode != \"B\"] #jogging\n",
        "data_watch_accel = data_watch_accel[data_watch_accel.Aktivitätscode != \"C\"] #stairs\n",
        "data_watch_accel = data_watch_accel[data_watch_accel.Aktivitätscode != \"G\"] #brushing teeth\n",
        "data_watch_accel = data_watch_accel[data_watch_accel.Aktivitätscode != \"M\"] #kicking\n",
        "data_watch_accel = data_watch_accel[data_watch_accel.Aktivitätscode != \"O\"] #playingCatch\n",
        "data_watch_accel = data_watch_accel[data_watch_accel.Aktivitätscode != \"P\"] #dribbling\n",
        "data_watch_accel = data_watch_accel[data_watch_accel.Aktivitätscode != \"S\"] #foldingClothes\n",
        "data_watch_accel = data_watch_accel[data_watch_accel.Aktivitätscode != \"H\"] #eatingSoup\n",
        "data_watch_accel = data_watch_accel[data_watch_accel.Aktivitätscode != \"J\"] #eatingPasta"
      ],
      "execution_count": null,
      "outputs": []
    },
    {
      "cell_type": "code",
      "metadata": {
        "id": "UP8JM0-tqYvI"
      },
      "source": [
        "distraction_activity_codes = {'A': 'abgelenkt',\n",
        "                              'D': 'nicht-abgelenkt',\n",
        "                              'E': 'nicht-abgelenkt',\n",
        "                              'F': 'abgelenkt',\n",
        "                              'I': 'abgelenkt',\n",
        "                              'K': 'abgelenkt',\n",
        "                              'L': 'abgelenkt',\n",
        "                              'Q': 'nicht-abgelenkt',\n",
        "                              'R': 'abgelenkt'\n",
        "                              }"
      ],
      "execution_count": null,
      "outputs": []
    },
    {
      "cell_type": "code",
      "metadata": {
        "id": "2KuGXSs2qbsy"
      },
      "source": [
        "data_watch_accel['Ablenkung'] = data_watch_accel['Aktivitätscode'].map(distraction_activity_codes)\n",
        "\n",
        "data_watch_accel = data_watch_accel[['Benutzer-ID', 'Ablenkung', 'Aktivitätscode', 'Zeit', 'x', 'y', 'z']]\n",
        "\n",
        "data_watch_accel"
      ],
      "execution_count": null,
      "outputs": []
    },
    {
      "cell_type": "code",
      "metadata": {
        "id": "4dsI7vPiqhh7"
      },
      "source": [
        "data_watch_accel['Aktivitätscode'].value_counts()"
      ],
      "execution_count": null,
      "outputs": []
    },
    {
      "cell_type": "code",
      "metadata": {
        "id": "i00QV8XAqyjb"
      },
      "source": [
        "activities = data_watch_accel['Aktivitätscode'].value_counts().index"
      ],
      "execution_count": null,
      "outputs": []
    },
    {
      "cell_type": "code",
      "metadata": {
        "id": "cP1ZTkPWq-sl"
      },
      "source": [
        "d_f_a = data_watch_accel[data_watch_accel['Aktivitätscode']=='A'].head(203680)\n",
        "d_f_k = data_watch_accel[data_watch_accel['Aktivitätscode']=='K'].head(203680)\n",
        "d_f_e = data_watch_accel[data_watch_accel['Aktivitätscode']=='E'].head(203680)\n",
        "d_f_d = data_watch_accel[data_watch_accel['Aktivitätscode']=='D'].head(203680)\n",
        "d_f_l = data_watch_accel[data_watch_accel['Aktivitätscode']=='L'].head(203680)\n",
        "d_f_f = data_watch_accel[data_watch_accel['Aktivitätscode']=='F'].head(203680)\n",
        "d_f_q = data_watch_accel[data_watch_accel['Aktivitätscode']=='Q'].head(203680)\n",
        "d_f_r = data_watch_accel[data_watch_accel['Aktivitätscode']=='R'].head(203680)\n",
        "d_f_i = data_watch_accel[data_watch_accel['Aktivitätscode']=='I'].head(203680)"
      ],
      "execution_count": null,
      "outputs": []
    },
    {
      "cell_type": "code",
      "metadata": {
        "id": "WayxGzQwrB2Z"
      },
      "source": [
        "balanced_data = pd.DataFrame()\n",
        "balanced_data = balanced_data.append([d_f_a,d_f_k,d_f_e,d_f_d,d_f_l,d_f_f,d_f_q,d_f_r,d_f_i]) "
      ],
      "execution_count": null,
      "outputs": []
    },
    {
      "cell_type": "code",
      "metadata": {
        "id": "ImI9-jCErDKv"
      },
      "source": [
        "balanced_data.head()"
      ],
      "execution_count": null,
      "outputs": []
    },
    {
      "cell_type": "code",
      "metadata": {
        "id": "jlNXoppJrTKx"
      },
      "source": [
        "label = LabelEncoder()\n",
        "balanced_data['label'] = label.fit_transform(balanced_data['Ablenkung']) \n",
        "balanced_data"
      ],
      "execution_count": null,
      "outputs": []
    },
    {
      "cell_type": "code",
      "metadata": {
        "id": "XbzCvUO3rWyO"
      },
      "source": [
        "x = balanced_data[['x','y','z','Zeit']]\n",
        "y = balanced_data['label']\n",
        "\n",
        "dataset = pd.DataFrame(data=x, columns=['x','y','z','Zeit'])\n",
        "dataset['label'] = y.values\n",
        "\n",
        "dataset"
      ],
      "execution_count": null,
      "outputs": []
    },
    {
      "cell_type": "code",
      "metadata": {
        "id": "f6sDozvJrh-r"
      },
      "source": [
        "data_watch_accel = dataset.drop(['Zeit'], axis=1)"
      ],
      "execution_count": null,
      "outputs": []
    },
    {
      "cell_type": "code",
      "metadata": {
        "id": "tmcXfHEQrreP"
      },
      "source": [
        "time_speed = 20\n",
        "time_frame_size = time_speed*10 #200\n",
        "time_hop_size = time_speed*5 #100\n",
        "\n",
        "def get_frames(df, time_frame_size, time_hop_size):\n",
        "    \n",
        "    N_FEATURES = 3\n",
        "    frames = []\n",
        "    labels = []\n",
        "    for i in range(0,len(df )- time_frame_size, time_hop_size):\n",
        "        x = df['x'].values[i: i+time_frame_size]\n",
        "        y = df['y'].values[i: i+time_frame_size]\n",
        "        z = df['z'].values[i: i+time_frame_size]\n",
        "       \n",
        "        label = stats.mode(df['label'][i: i+time_frame_size])[0][0]\n",
        "        frames.append([x,y,z])\n",
        "        labels.append(label)\n",
        "        \n",
        "    frames = np.asarray(frames).reshape(-1, time_frame_size, N_FEATURES)\n",
        "    labels = np.asarray(labels)\n",
        "    \n",
        "    return frames, labels"
      ],
      "execution_count": null,
      "outputs": []
    },
    {
      "cell_type": "code",
      "metadata": {
        "id": "BQQLhq8Irw64"
      },
      "source": [
        "x,y = get_frames(dataset, time_frame_size, time_hop_size)"
      ],
      "execution_count": null,
      "outputs": []
    },
    {
      "cell_type": "code",
      "metadata": {
        "id": "YRW51XcXSSic"
      },
      "source": [
        "x.shape"
      ],
      "execution_count": null,
      "outputs": []
    },
    {
      "cell_type": "code",
      "metadata": {
        "id": "NiekvIiYr0eu"
      },
      "source": [
        "from sklearn.model_selection import train_test_split"
      ],
      "execution_count": null,
      "outputs": []
    },
    {
      "cell_type": "code",
      "metadata": {
        "id": "2zzNP7oKsCrQ"
      },
      "source": [
        "x_train, x_test, y_train, y_test = train_test_split(x,y,test_size=0.30, random_state = 0, stratify = y)"
      ],
      "execution_count": null,
      "outputs": []
    },
    {
      "cell_type": "code",
      "metadata": {
        "id": "NHNmZzCUVq5T"
      },
      "source": [
        "x_train.shape"
      ],
      "execution_count": null,
      "outputs": []
    },
    {
      "cell_type": "code",
      "metadata": {
        "id": "TVBKyY7HVtb1"
      },
      "source": [
        "x_test.shape"
      ],
      "execution_count": null,
      "outputs": []
    },
    {
      "cell_type": "markdown",
      "metadata": {
        "id": "LU5fL4Jas27T"
      },
      "source": [
        "1DCONV MIT MAXPOOLING LAYER"
      ]
    },
    {
      "cell_type": "code",
      "metadata": {
        "id": "15GNBPX7s16Q"
      },
      "source": [
        "model = Sequential()\n",
        "model.add(Conv1D(filters=128, kernel_size=4, activation = 'relu', input_shape = (200,3)))\n",
        "model.add(MaxPooling1D(3))\n",
        "\n",
        "model.add(Conv1D(filters=256, kernel_size=4, activation = 'relu'))\n",
        "model.add(MaxPooling1D(3))\n",
        "model.add(Dropout(0.2))\n",
        "\n",
        "model.add(Flatten())\n",
        "\n",
        "model.add(Dense(512, activation = 'relu'))\n",
        "model.add(Dropout(0.5))\n",
        "\n",
        "model.add(Dense(2, activation='softmax'))"
      ],
      "execution_count": null,
      "outputs": []
    },
    {
      "cell_type": "code",
      "metadata": {
        "id": "y2DK9yaptP53"
      },
      "source": [
        "model.summary()"
      ],
      "execution_count": null,
      "outputs": []
    },
    {
      "cell_type": "code",
      "metadata": {
        "id": "wepxp_mNtTaw"
      },
      "source": [
        "model.compile(optimizer=\"Adam\", loss=\"sparse_categorical_crossentropy\", metrics=[\"accuracy\"]) "
      ],
      "execution_count": null,
      "outputs": []
    },
    {
      "cell_type": "code",
      "metadata": {
        "id": "DpQ2hOEAtWrA"
      },
      "source": [
        "history = model.fit(x_train, y_train, epochs = 10, verbose=1 )"
      ],
      "execution_count": null,
      "outputs": []
    },
    {
      "cell_type": "code",
      "metadata": {
        "id": "kCG0ZiuOuXku"
      },
      "source": [
        "score = model.evaluate(x_test, y_test, verbose = 0) \n",
        "print('Test Loss: ', score[0]) \n",
        "print('Test Accuracy: ', score[1]) \n",
        "print(type(model))\n",
        "y_pred_accel = model.predict_classes(x_test, verbose=1)\n",
        "from sklearn.metrics import confusion_matrix\n",
        "import matplotlib.pyplot as plt\n",
        "\n",
        "cm = confusion_matrix(y_test, y_pred_accel)\n",
        "plt.figure(figsize=(7,7))\n",
        "sns.heatmap(cm, annot=True, fmt=\"d\", cbar=False)\n",
        "plt.title('Konfusionsmatrix')\n",
        "plt.ylabel('Tatsächlich')\n",
        "plt.xlabel('Prognose')"
      ],
      "execution_count": null,
      "outputs": []
    },
    {
      "cell_type": "code",
      "metadata": {
        "id": "--sqxLj8ucX1"
      },
      "source": [
        "from sklearn.metrics import precision_score\n",
        "\n",
        "precision = precision_score(y_test, y_pred_accel)\n",
        "print('Precision (tp/(tp+fp)):', precision)\n",
        "print('Von den', (cm[1][1] + cm[0][1]),'als erfolgreich prognostizierten Projekten wurden', precision * 100,'% also', cm[1][1], 'richtig klassifiziert.')"
      ],
      "execution_count": null,
      "outputs": []
    },
    {
      "cell_type": "code",
      "metadata": {
        "id": "AWNXC9rLugi4"
      },
      "source": [
        "from sklearn.metrics import recall_score\n",
        "\n",
        "recall = recall_score(y_test, y_pred_accel)\n",
        "print('Recall (tp/(tp+fn)):', recall)\n",
        "print('Von den', (cm[1][1] + cm[1][0]),'tatsächlich geförderten Projekten wurden', recall * 100,'% also', cm[1][1], 'richtig klassifiziert.')"
      ],
      "execution_count": null,
      "outputs": []
    },
    {
      "cell_type": "code",
      "metadata": {
        "id": "erTnQ7ZRuk9M"
      },
      "source": [
        "false_positive_rate = (cm[0][1] / (cm[0][1] + cm[0][0]))\n",
        "print('False Positiv Rate (fpr)):', false_positive_rate)\n",
        "print('Von den', (cm[0][1] + cm[0][0]),'nicht geförderten Projekten wurden', false_positive_rate * 100,'% also', cm[0][1], 'fälschlicherweise als gefördert klassifiziert.')"
      ],
      "execution_count": null,
      "outputs": []
    },
    {
      "cell_type": "code",
      "metadata": {
        "id": "W1htSuReusq_"
      },
      "source": [
        "from sklearn.metrics import roc_auc_score\n",
        "\n",
        "auc = roc_auc_score(y_test, y_pred_accel)\n",
        "print('AUC:', auc)"
      ],
      "execution_count": null,
      "outputs": []
    },
    {
      "cell_type": "markdown",
      "metadata": {
        "id": "meuDEZxOwRrG"
      },
      "source": [
        "1D CONV OHNE MAXPOOLING LAYER\n"
      ]
    },
    {
      "cell_type": "code",
      "metadata": {
        "id": "fdCki4P7wS-F"
      },
      "source": [
        "model = Sequential()\n",
        "model.add(Conv1D(filters=128, kernel_size=4, activation = 'relu', input_shape = (200,3)))\n",
        "model.add(Dropout(0.1))\n",
        "\n",
        "model.add(Conv1D(filters=256, kernel_size=4, activation = 'relu'))\n",
        "model.add(Dropout(0.2))\n",
        "\n",
        "model.add(Flatten())\n",
        "\n",
        "model.add(Dense(512, activation = 'relu'))\n",
        "model.add(Dropout(0.5))\n",
        "\n",
        "model.add(Dense(2, activation='softmax'))"
      ],
      "execution_count": null,
      "outputs": []
    },
    {
      "cell_type": "code",
      "metadata": {
        "id": "uGPAINHxw8iP"
      },
      "source": [
        "model.summary()"
      ],
      "execution_count": null,
      "outputs": []
    },
    {
      "cell_type": "code",
      "metadata": {
        "id": "S5JdPaffxDXR"
      },
      "source": [
        "model.compile(optimizer=\"Adam\", loss=\"sparse_categorical_crossentropy\", metrics=[\"accuracy\"]) "
      ],
      "execution_count": null,
      "outputs": []
    },
    {
      "cell_type": "code",
      "metadata": {
        "id": "dWhMpJ_TxGIU"
      },
      "source": [
        "history = model.fit(x_train, y_train, epochs = 10, verbose=1 )"
      ],
      "execution_count": null,
      "outputs": []
    },
    {
      "cell_type": "code",
      "metadata": {
        "id": "6TKDE_wYbONO"
      },
      "source": [
        "score = model.evaluate(x_test, y_test, verbose = 0) \n",
        "print('Test Loss: ', score[0]) \n",
        "print('Test Accuracy: ', score[1]) \n",
        "print(type(model))\n",
        "y_pred_accel = model.predict_classes(x_test, verbose=1)\n",
        "from sklearn.metrics import confusion_matrix\n",
        "import matplotlib.pyplot as plt\n",
        "\n",
        "cm = confusion_matrix(y_test, y_pred_accel)\n",
        "plt.figure(figsize=(7,7))\n",
        "sns.heatmap(cm, annot=True, fmt=\"d\", cbar=False)\n",
        "plt.title('Konfusionsmatrix')\n",
        "plt.ylabel('Tatsächlich')\n",
        "plt.xlabel('Prognose')"
      ],
      "execution_count": null,
      "outputs": []
    },
    {
      "cell_type": "code",
      "metadata": {
        "id": "94nFo4sgbVzM"
      },
      "source": [
        "from sklearn.metrics import precision_score\n",
        "\n",
        "precision = precision_score(y_test, y_pred_accel)\n",
        "print('Precision (tp/(tp+fp)):', precision)\n",
        "print('Von den', (cm[1][1] + cm[0][1]),'als erfolgreich prognostizierten Projekten wurden', precision * 100,'% also', cm[1][1], 'richtig klassifiziert.')"
      ],
      "execution_count": null,
      "outputs": []
    },
    {
      "cell_type": "code",
      "metadata": {
        "id": "o1YdyuqMbbwC"
      },
      "source": [
        "from sklearn.metrics import recall_score\n",
        "\n",
        "recall = recall_score(y_test, y_pred_accel)\n",
        "print('Recall (tp/(tp+fn)):', recall)\n",
        "print('Von den', (cm[1][1] + cm[1][0]),'tatsächlich geförderten Projekten wurden', recall * 100,'% also', cm[1][1], 'richtig klassifiziert.')"
      ],
      "execution_count": null,
      "outputs": []
    },
    {
      "cell_type": "code",
      "metadata": {
        "id": "N9GH3osLbfkS"
      },
      "source": [
        "false_positive_rate = (cm[0][1] / (cm[0][1] + cm[0][0]))\n",
        "print('False Positiv Rate (fpr)):', false_positive_rate)\n",
        "print('Von den', (cm[0][1] + cm[0][0]),'nicht geförderten Projekten wurden', false_positive_rate * 100,'% also', cm[0][1], 'fälschlicherweise als gefördert klassifiziert.')"
      ],
      "execution_count": null,
      "outputs": []
    },
    {
      "cell_type": "code",
      "metadata": {
        "id": "K6HRmkfnbmjX"
      },
      "source": [
        "from sklearn.metrics import roc_auc_score\n",
        "\n",
        "auc = roc_auc_score(y_test, y_pred_accel)\n",
        "print('AUC:', auc)"
      ],
      "execution_count": null,
      "outputs": []
    },
    {
      "cell_type": "markdown",
      "metadata": {
        "id": "-7YWNbdYxhGZ"
      },
      "source": [
        "CNN MIT CONV2D LAYER"
      ]
    },
    {
      "cell_type": "code",
      "metadata": {
        "id": "1PRNFLMEsGcj"
      },
      "source": [
        "x_train = x_train.reshape(12831, 200, 3,1)\n",
        "x_test = x_test.reshape(5499, 200, 3,1)"
      ],
      "execution_count": null,
      "outputs": []
    },
    {
      "cell_type": "code",
      "metadata": {
        "id": "6onYwCQJ-qf6"
      },
      "source": [
        "model = Sequential()\n",
        "model.add(Conv2D(128, (2,2), activation = 'relu', input_shape = x_train[0].shape))\n",
        "model.add(Dropout(0.1))\n",
        "\n",
        "model.add(Conv2D(256, (2,2), activation = 'relu'))\n",
        "model.add(Dropout(0.2))\n",
        "\n",
        "model.add(Flatten())\n",
        "\n",
        "model.add(Dense(512, activation = 'relu'))\n",
        "model.add(Dropout(0.5))\n",
        "\n",
        "model.add(Dense(2, activation='softmax'))"
      ],
      "execution_count": null,
      "outputs": []
    },
    {
      "cell_type": "code",
      "metadata": {
        "id": "TWXOcJHx-z3j"
      },
      "source": [
        "model.summary()"
      ],
      "execution_count": null,
      "outputs": []
    },
    {
      "cell_type": "code",
      "metadata": {
        "id": "j3bARqSA-37p"
      },
      "source": [
        "model.compile(optimizer=\"Adam\", loss=\"sparse_categorical_crossentropy\", metrics=[\"accuracy\"]) "
      ],
      "execution_count": null,
      "outputs": []
    },
    {
      "cell_type": "code",
      "metadata": {
        "id": "d0RCy7-s--Ih"
      },
      "source": [
        "history = model.fit(x_train, y_train, epochs = 10, verbose=1 )"
      ],
      "execution_count": null,
      "outputs": []
    },
    {
      "cell_type": "code",
      "metadata": {
        "id": "vXn1EVFedAVY"
      },
      "source": [
        "score = model.evaluate(x_test, y_test, verbose = 0) \n",
        "print('Test Loss: ', score[0]) \n",
        "print('Test Accuracy: ', score[1]) \n",
        "print(type(model))\n",
        "y_pred_accel = model.predict_classes(x_test, verbose=1)\n",
        "from sklearn.metrics import confusion_matrix\n",
        "import matplotlib.pyplot as plt\n",
        "\n",
        "cm = confusion_matrix(y_test, y_pred_accel)\n",
        "plt.figure(figsize=(7,7))\n",
        "sns.heatmap(cm, annot=True, fmt=\"d\", cbar=False)\n",
        "plt.title('Konfusionsmatrix')\n",
        "plt.ylabel('Tatsächlich')\n",
        "plt.xlabel('Prognose')"
      ],
      "execution_count": null,
      "outputs": []
    },
    {
      "cell_type": "code",
      "metadata": {
        "id": "oqK-xgnvW_J9"
      },
      "source": [
        "print('Richtig Positiv (True Positive, tp):', cm[1][1])\n",
        "print('Falsch Positiv (False Positive, fp):', cm[0][1])\n",
        "print('Falsch Negativ (False Negative, fn):', cm[1][0])\n",
        "print('Richtig Negativ (True Negative, tn):', cm[0][0])"
      ],
      "execution_count": null,
      "outputs": []
    },
    {
      "cell_type": "code",
      "metadata": {
        "id": "1C5Vp7SFXARt"
      },
      "source": [
        "from sklearn.metrics import precision_score\n",
        "\n",
        "precision = precision_score(y_test, y_pred_accel)\n",
        "print('Precision (tp/(tp+fp)):', precision)\n",
        "print('Von den', (cm[1][1] + cm[0][1]),'als erfolgreich prognostizierten Projekten wurden', precision * 100,'% also', cm[1][1], 'richtig klassifiziert.')"
      ],
      "execution_count": null,
      "outputs": []
    },
    {
      "cell_type": "code",
      "metadata": {
        "id": "UgpQ8rCDXTEQ"
      },
      "source": [
        "from sklearn.metrics import recall_score\n",
        "\n",
        "recall = recall_score(y_test, y_pred_accel)\n",
        "print('Recall (tp/(tp+fn)):', recall)\n",
        "print('Von den', (cm[1][1] + cm[1][0]),'tatsächlich geförderten Projekten wurden', recall * 100,'% also', cm[1][1], 'richtig klassifiziert.')"
      ],
      "execution_count": null,
      "outputs": []
    },
    {
      "cell_type": "code",
      "metadata": {
        "id": "dcEkFa3eXXyX"
      },
      "source": [
        "false_positive_rate = (cm[0][1] / (cm[0][1] + cm[0][0]))\n",
        "print('False Positiv Rate (fpr)):', false_positive_rate)\n",
        "print('Von den', (cm[0][1] + cm[0][0]),'nicht geförderten Projekten wurden', false_positive_rate * 100,'% also', cm[0][1], 'fälschlicherweise als gefördert klassifiziert.')"
      ],
      "execution_count": null,
      "outputs": []
    },
    {
      "cell_type": "code",
      "metadata": {
        "id": "ADquZDxNXbNy"
      },
      "source": [
        "from sklearn.metrics import roc_auc_score\n",
        "\n",
        "auc = roc_auc_score(y_test, y_pred_accel)\n",
        "print('AUC:', auc)"
      ],
      "execution_count": null,
      "outputs": []
    },
    {
      "cell_type": "code",
      "metadata": {
        "id": "AaulHlF5XhTe"
      },
      "source": [
        "plt.plot(history.history['loss']) \n",
        "plt.legend(['training']) \n",
        "plt.title('Loss') \n",
        "plt.xlabel('epoch')"
      ],
      "execution_count": null,
      "outputs": []
    },
    {
      "cell_type": "code",
      "metadata": {
        "id": "O_FqiBAOXkWT"
      },
      "source": [
        "plt.plot(history.history['accuracy']) \n",
        "plt.legend(['Trainierung']) \n",
        "plt.title('Genauigkeit') \n",
        "plt.xlabel('Epoche')"
      ],
      "execution_count": null,
      "outputs": []
    },
    {
      "cell_type": "markdown",
      "metadata": {
        "id": "XY8QdB5MPItZ"
      },
      "source": [
        "RANDOM FOREST FUR TRANSFORMIERTE DATEN"
      ]
    },
    {
      "cell_type": "code",
      "metadata": {
        "id": "hVu0cb98vnWC"
      },
      "source": [
        "features = ['ACTIVITY',\n",
        "            'X0',\n",
        "            'X1', \n",
        "            'X2',\n",
        "            'X3',\n",
        "            'X4',\n",
        "            'X5',\n",
        "            'X6',\n",
        "            'X7',\n",
        "            'X8',\n",
        "            'X9',\n",
        "            'Y0',\n",
        "            'Y1', \n",
        "            'Y2',\n",
        "            'Y3',\n",
        "            'Y4',\n",
        "            'Y5',\n",
        "            'Y6',\n",
        "            'Y7',\n",
        "            'Y8',\n",
        "            'Y9',\n",
        "            'Z0',\n",
        "            'Z1', \n",
        "            'Z2',\n",
        "            'Z3',\n",
        "            'Z4',\n",
        "            'Z5',\n",
        "            'Z6',\n",
        "            'Z7',\n",
        "            'Z8',\n",
        "            'Z9',\n",
        "            'XAVG',\n",
        "            'YAVG',\n",
        "            'ZAVG',\n",
        "            'XPEAK',\n",
        "            'YPEAK',\n",
        "            'ZPEAK',\n",
        "            'XABSOLDEV',\n",
        "            'YABSOLDEV',\n",
        "            'ZABSOLDEV',\n",
        "            'XSTANDDEV',\n",
        "            'YSTANDDEV',\n",
        "            'ZSTANDDEV',\n",
        "            'XVAR',\n",
        "            'YVAR',\n",
        "            'ZVAR',\n",
        "            'XMFCC0',\n",
        "            'XMFCC1',\n",
        "            'XMFCC2',\n",
        "            'XMFCC3',\n",
        "            'XMFCC4',\n",
        "            'XMFCC5',\n",
        "            'XMFCC6',\n",
        "            'XMFCC7',\n",
        "            'XMFCC8',\n",
        "            'XMFCC9',\n",
        "            'XMFCC10',\n",
        "            'XMFCC11',\n",
        "            'XMFCC12',\n",
        "            'YMFCC0',\n",
        "            'YMFCC1',\n",
        "            'YMFCC2',\n",
        "            'YMFCC3',\n",
        "            'YMFCC4',\n",
        "            'YMFCC5',\n",
        "            'YMFCC6',\n",
        "            'YMFCC7',\n",
        "            'YMFCC8',\n",
        "            'YMFCC9',\n",
        "            'YMFCC10',\n",
        "            'YMFCC11',\n",
        "            'YMFCC12',\n",
        "            'ZMFCC0', \n",
        "            'ZMFCC1',\n",
        "            'ZMFCC2',\n",
        "            'ZMFCC3',\n",
        "            'ZMFCC4',\n",
        "            'ZMFCC5',\n",
        "            'ZMFCC6',\n",
        "            'ZMFCC7',\n",
        "            'ZMFCC8',\n",
        "            'ZMFCC9',\n",
        "            'ZMFCC10',\n",
        "            'ZMFCC11',\n",
        "            'ZMFCC12',\n",
        "            'XYCOS',\n",
        "            'XZCOS',\n",
        "            'YZCOS',\n",
        "            'XYCOR', \n",
        "            'XZCOR',\n",
        "            'YZCOR',\n",
        "            'RESULTANT', \n",
        "            'PARTICIPANT'] \n",
        "\n",
        "len(features)"
      ],
      "execution_count": null,
      "outputs": []
    },
    {
      "cell_type": "code",
      "metadata": {
        "id": "e9GrbVPrxF7D"
      },
      "source": [
        "import glob\n",
        "\n",
        "path = r'drive/My Drive/accelArff'\n",
        "all_files = glob.glob(path + \"/*.arff\")\n",
        "\n",
        "list_dfs_watch_accel = []\n",
        "\n",
        "for filename in all_files:\n",
        "\n",
        "    df = pd.read_csv(filename, names = features, skiprows = 96, index_col=None, header=0)\n",
        "    list_dfs_watch_accel.append(df)\n",
        "\n",
        "watch_accel = pd.concat(list_dfs_watch_accel, axis=0, ignore_index=True, sort=False)\n",
        "\n",
        "watch_accel"
      ],
      "execution_count": null,
      "outputs": []
    },
    {
      "cell_type": "code",
      "metadata": {
        "id": "pMT8lInPzj-I"
      },
      "source": [
        "watch_accel = watch_accel[watch_accel.ACTIVITY != \"B\"] #jogging\n",
        "watch_accel = watch_accel[watch_accel.ACTIVITY != \"C\"] #stairs\n",
        "watch_accel = watch_accel[watch_accel.ACTIVITY != \"G\"] #brushing teeth\n",
        "watch_accel = watch_accel[watch_accel.ACTIVITY != \"M\"] #kicking\n",
        "watch_accel = watch_accel[watch_accel.ACTIVITY != \"O\"] #playingCatch\n",
        "watch_accel = watch_accel[watch_accel.ACTIVITY != \"P\"] #dribbling\n",
        "watch_accel = watch_accel[watch_accel.ACTIVITY != \"S\"] #foldingClothes\n",
        "watch_accel = watch_accel[watch_accel.ACTIVITY != \"H\"] #eatingSoup\n",
        "watch_accel = watch_accel[watch_accel.ACTIVITY != \"J\"] #eatingPasta"
      ],
      "execution_count": null,
      "outputs": []
    },
    {
      "cell_type": "code",
      "metadata": {
        "id": "ZZJ1Zb950g_H"
      },
      "source": [
        "watch_accel['Ablenkung'] = watch_accel['ACTIVITY'].map(distraction_activity_codes)\n",
        "\n",
        "watch_accel"
      ],
      "execution_count": null,
      "outputs": []
    },
    {
      "cell_type": "code",
      "metadata": {
        "id": "TQC-kchy1m0W"
      },
      "source": [
        "watch_accel['label'] = label.fit_transform(watch_accel['Ablenkung']) \n",
        "watch_accel"
      ],
      "execution_count": null,
      "outputs": []
    },
    {
      "cell_type": "code",
      "metadata": {
        "id": "_Y_twj5316zA"
      },
      "source": [
        "watch_accel = watch_accel.drop(['Ablenkung'], axis=1)\n",
        "watch_accel = watch_accel.drop(['PARTICIPANT'], axis=1)\n",
        "watch_accel = watch_accel.drop(['ACTIVITY'], axis=1)\n",
        "watch_accel"
      ],
      "execution_count": null,
      "outputs": []
    },
    {
      "cell_type": "code",
      "metadata": {
        "id": "O2PawM8Y3Xcu"
      },
      "source": [
        "predictors = [x for x in watch_accel.columns if x not in ['label']]\n",
        "X = watch_accel[predictors]\n",
        "y = watch_accel.label"
      ],
      "execution_count": null,
      "outputs": []
    },
    {
      "cell_type": "code",
      "metadata": {
        "id": "sKR7djzLhjMM"
      },
      "source": [
        "X"
      ],
      "execution_count": null,
      "outputs": []
    },
    {
      "cell_type": "code",
      "metadata": {
        "id": "h8y35Fg12dm4"
      },
      "source": [
        "from sklearn.model_selection import train_test_split\n",
        "\n",
        "X_train, X_test, y_train, y_test = train_test_split(X, y, \n",
        "                                                    train_size = 0.75, \n",
        "                                                    test_size = 0.25,\n",
        "                                                    shuffle = True)"
      ],
      "execution_count": null,
      "outputs": []
    },
    {
      "cell_type": "code",
      "metadata": {
        "id": "koDjreAP2Vlf"
      },
      "source": [
        "X_train.shape"
      ],
      "execution_count": null,
      "outputs": []
    },
    {
      "cell_type": "code",
      "metadata": {
        "id": "8MmS9GHx2ebc"
      },
      "source": [
        "y_test.shape"
      ],
      "execution_count": null,
      "outputs": []
    },
    {
      "cell_type": "code",
      "metadata": {
        "id": "3guTft5QcoEX"
      },
      "source": [
        "from sklearn.ensemble import RandomForestClassifier\n",
        "from sklearn.model_selection import GridSearchCV\n",
        "param_grid = {\n",
        "    'bootstrap': [True],\n",
        "    'max_depth': [10,20,30,40,50],\n",
        "    'max_features': ['auto','sqrt'],\n",
        "    'min_samples_leaf': [2,3,4],\n",
        "    'min_samples_split': [8,9,10],\n",
        "    'n_estimators': [100, 200, 300, 1000]\n",
        "}\n",
        "rf = RandomForestClassifier()\n",
        "grid_search = GridSearchCV(estimator = rf, param_grid = param_grid, \n",
        "                          cv = 3, n_jobs = -1, verbose = 2)\n",
        "grid_search.fit(X_train,y_train)\n",
        "grid_search.best_params_"
      ],
      "execution_count": null,
      "outputs": []
    },
    {
      "cell_type": "code",
      "metadata": {
        "id": "NFJ9bdnFChZl"
      },
      "source": [
        "from sklearn.ensemble import RandomForestClassifier\n",
        "import time\n",
        "model_rf = RandomForestClassifier(n_estimators=200,max_features='sqrt',min_samples_leaf=2,min_samples_split=8,\n",
        "                                 max_depth = 20)\n",
        "start = time.process_time()\n",
        "model_rf.fit(X_train, y_train)\n",
        "print(time.process_time() - start)"
      ],
      "execution_count": null,
      "outputs": []
    },
    {
      "cell_type": "code",
      "metadata": {
        "id": "d2bP4EgGjeS-"
      },
      "source": [
        "predictions = model_rf.predict(X_test)\n",
        "predicted_Probability = model_rf.predict_proba(X_test)"
      ],
      "execution_count": null,
      "outputs": []
    },
    {
      "cell_type": "code",
      "metadata": {
        "id": "3KejEoDvCtIy"
      },
      "source": [
        "results = X_test.copy()\n",
        "results['successfull'] = y_test\n",
        "results['prediction'] = predictions\n",
        "results['probability'] = predicted_Probability[:,1]"
      ],
      "execution_count": null,
      "outputs": []
    },
    {
      "cell_type": "code",
      "metadata": {
        "id": "E8HoQhf_jf-4"
      },
      "source": [
        "from sklearn.metrics import accuracy_score\n",
        "\n",
        "accuracy = accuracy_score(results['successfull'], results['prediction'])\n",
        "print('Accurancy (Klassifikationsgenauigkeit):', accuracy)\n",
        "print(accuracy * 100, '% der Projekte werden richtig klassifiziert.')"
      ],
      "execution_count": null,
      "outputs": []
    },
    {
      "cell_type": "code",
      "metadata": {
        "id": "mp2MU4m9kgYq"
      },
      "source": [
        "from sklearn.metrics import confusion_matrix\n",
        "import matplotlib.pyplot as plt\n",
        "import seaborn as sns\n",
        "\n",
        "cm = confusion_matrix(results['successfull'], results['prediction'])\n",
        "plt.figure(figsize=(7,7))\n",
        "sns.heatmap(cm, annot=True, fmt=\"d\", cbar=False)\n",
        "plt.title('Konfusionsmatrix')\n",
        "plt.ylabel('Tatsächlich')\n",
        "plt.xlabel('Prognose')"
      ],
      "execution_count": null,
      "outputs": []
    },
    {
      "cell_type": "code",
      "metadata": {
        "id": "nNrl4nwt1Tpc"
      },
      "source": [
        "print(f'Model Accuracy: {model_rf.score(X_test,y_test)*100}%')"
      ],
      "execution_count": null,
      "outputs": []
    },
    {
      "cell_type": "code",
      "metadata": {
        "id": "2mjOp1YD1dIV"
      },
      "source": [
        "print(f'Model Accuracy: {model_rf.score(X_train,y_train)*100}%')"
      ],
      "execution_count": null,
      "outputs": []
    },
    {
      "cell_type": "code",
      "metadata": {
        "id": "XqCG-738AnTe"
      },
      "source": [
        "print('Richtig Positiv (True Positive, tp):', cm[1][1])\n",
        "print('Falsch Positiv (False Positive, fp):', cm[0][1])\n",
        "print('Falsch Negativ (False Negative, fn):', cm[1][0])\n",
        "print('Richtig Negativ (True Negative, tn):', cm[0][0])"
      ],
      "execution_count": null,
      "outputs": []
    },
    {
      "cell_type": "code",
      "metadata": {
        "id": "F7YVx0GXAso7"
      },
      "source": [
        "from sklearn.metrics import precision_score\n",
        "\n",
        "precision = precision_score(y_test, predictions)\n",
        "print('Precision (tp/(tp+fp)):', precision)\n",
        "print('Von den', (cm[1][1] + cm[0][1]),'als erfolgreich prognostizierten Projekten wurden', precision * 100,'% also', cm[1][1], 'richtig klassifiziert.')"
      ],
      "execution_count": null,
      "outputs": []
    },
    {
      "cell_type": "code",
      "metadata": {
        "id": "Y5Y2LHrIA4GF"
      },
      "source": [
        "from sklearn.metrics import recall_score\n",
        "\n",
        "recall = recall_score(y_test, predictions)\n",
        "print('Recall (tp/(tp+fn)):', recall)\n",
        "print('Von den', (cm[1][1] + cm[1][0]),'tatsächlich geförderten Projekten wurden', recall * 100,'% also', cm[1][1], 'richtig klassifiziert.')"
      ],
      "execution_count": null,
      "outputs": []
    },
    {
      "cell_type": "code",
      "metadata": {
        "id": "FehuM64EBAml"
      },
      "source": [
        "false_positive_rate = (cm[0][1] / (cm[0][1] + cm[0][0]))\n",
        "print('False Positiv Rate (fpr)):', false_positive_rate)\n",
        "print('Von den', (cm[0][1] + cm[0][0]),'nicht geförderten Projekten wurden', false_positive_rate * 100,'% also', cm[0][1], 'fälschlicherweise als gefördert klassifiziert.')"
      ],
      "execution_count": null,
      "outputs": []
    },
    {
      "cell_type": "code",
      "metadata": {
        "id": "tVEhlFwCBGa1"
      },
      "source": [
        "from sklearn.metrics import roc_auc_score\n",
        "\n",
        "auc = roc_auc_score(y_test, predictions)\n",
        "print('AUC:', auc)"
      ],
      "execution_count": null,
      "outputs": []
    },
    {
      "cell_type": "code",
      "metadata": {
        "id": "B-LZ1AM81wHc"
      },
      "source": [
        "import matplotlib.pyplot as plt\n",
        "import seaborn as sns\n",
        "%matplotlib inline\n",
        "sns.set(style='whitegrid', palette='muted', font_scale=1.5)\n",
        "\n",
        "plt.rcParams[\"figure.figsize\"] = (5,5)\n",
        "\n",
        "RANDOM_SEED = 42\n",
        "# Creating a bar plot\n",
        "sns.barplot(x=model_rf.feature_importances_, y=X.columns)\n",
        "# Add labels to your graph\n",
        "plt.xlabel('Feature Importance Score')\n",
        "plt.ylabel('Merkmale')\n",
        "plt.title(\"Visualizing Important Features\")\n",
        "plt.legend()\n",
        "plt.show()"
      ],
      "execution_count": null,
      "outputs": []
    },
    {
      "cell_type": "code",
      "metadata": {
        "id": "gdAYW-hC2yr8"
      },
      "source": [
        "for name, importance in zip(X.columns, model_rf.feature_importances_):\n",
        "    print(name, \"=\", importance)"
      ],
      "execution_count": null,
      "outputs": []
    },
    {
      "cell_type": "code",
      "metadata": {
        "id": "u7mYyCBM4kUP"
      },
      "source": [
        "feature_imp = pd.Series(model_rf.feature_importances_, index=X.columns)\n",
        "best_feat = feature_imp.nlargest(10).plot(kind='barh')"
      ],
      "execution_count": null,
      "outputs": []
    },
    {
      "cell_type": "code",
      "metadata": {
        "id": "GzGczoeJ66Sb"
      },
      "source": [
        "best_features = feature_imp.nlargest(10).index"
      ],
      "execution_count": null,
      "outputs": []
    },
    {
      "cell_type": "code",
      "metadata": {
        "id": "uwxVDVl87jsE"
      },
      "source": [
        "x_reduce = X[best_features]"
      ],
      "execution_count": null,
      "outputs": []
    },
    {
      "cell_type": "code",
      "metadata": {
        "id": "gpYcAnjN70XY"
      },
      "source": [
        "x_reduce"
      ],
      "execution_count": null,
      "outputs": []
    },
    {
      "cell_type": "code",
      "metadata": {
        "id": "z-icKMuB72X9"
      },
      "source": [
        "from sklearn.model_selection import train_test_split\n",
        "\n",
        "Xr_train, Xr_test, yr_train, yr_test = train_test_split(x_reduce, y, \n",
        "                                                    train_size = 0.75, \n",
        "                                                    test_size = 0.25,\n",
        "                                                    shuffle = True)"
      ],
      "execution_count": null,
      "outputs": []
    },
    {
      "cell_type": "code",
      "metadata": {
        "id": "tCzVRtwE8RS6"
      },
      "source": [
        "from sklearn.ensemble import RandomForestClassifier\n",
        "import time\n",
        "model_rf = RandomForestClassifier(n_estimators=200,max_features='sqrt',min_samples_leaf=2,min_samples_split=8,\n",
        "                                 max_depth = 20)\n",
        "start = time.process_time()\n",
        "model_rf.fit(Xr_train, yr_train)\n",
        "print(time.process_time() - start)"
      ],
      "execution_count": null,
      "outputs": []
    },
    {
      "cell_type": "code",
      "metadata": {
        "id": "xG0xZuIO8cvN"
      },
      "source": [
        "print(f'Model Accuracy: {model_rf.score(Xr_test,yr_test)*100}%')"
      ],
      "execution_count": null,
      "outputs": []
    }
  ]
}